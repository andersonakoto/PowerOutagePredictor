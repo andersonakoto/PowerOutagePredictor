{
 "cells": [
  {
   "cell_type": "code",
   "execution_count": 3,
   "id": "waiting-bidder",
   "metadata": {},
   "outputs": [],
   "source": [
    "import os\n",
    "import flask\n",
    "import pandas as pd\n",
    "import tensorflow as tf\n",
    "from tensorflow.keras.models import Sequential, load_model\n",
    "import requests\n",
    "from sklearn import preprocessing\n",
    "import numpy as np\n",
    "from sklearn.preprocessing import StandardScaler\n",
    "import json\n",
    "import pickle\n",
    "from sklearn.pipeline import Pipeline"
   ]
  },
  {
   "cell_type": "code",
   "execution_count": 5,
   "id": "biblical-concord",
   "metadata": {
    "scrolled": true
   },
   "outputs": [],
   "source": [
    "# instantiate flask \n",
    "app = flask.Flask(__name__)\n",
    "\n",
    "# load the model, and pass in the custom metric function\n",
    "global graph\n",
    "graph = tf.compat.v1.get_default_graph()\n",
    "model = load_model('final_model.h5')"
   ]
  },
  {
   "cell_type": "code",
   "execution_count": 6,
   "id": "solar-cotton",
   "metadata": {},
   "outputs": [],
   "source": [
    "url = \"http://api.weatherstack.com/current?access_key=26cfb70e26188eb94cc13769b423c011&query=-1.288077,36.819927\"\n",
    "# homepage\n",
    "@app.route(\"/\", methods=[\"GET\",\"POST\"])\n",
    "def homepage():\n",
    "    return flask.render_template(\"index.html\")\n",
    "\n",
    "\n",
    "#trained keras model\n",
    "model = load_model('final_model.h5')\n",
    "\n",
    "\n",
    "@app.route(\"/predict\", methods=[\"POST\"])\n",
    "def predict():\n",
    "    temp = flask.request.form['lat']\n",
    "    press = flask.request.form['lng'] \n",
    "    \n",
    "    \n",
    "    response = requests.get(url).json()\n",
    "    temp = float(response[\"current\"][\"temperature\"])\n",
    "    wind_speed = float(response[\"current\"][\"wind_speed\"])\n",
    "    precip = float(response[\"current\"][\"precip\"])\n",
    "    pressure = response[\"current\"][\"pressure\"]\n",
    "    humidity = response[\"current\"][\"humidity\"]"
   ]
  },
  {
   "cell_type": "code",
   "execution_count": null,
   "id": "occupational-separate",
   "metadata": {},
   "outputs": [],
   "source": []
  }
 ],
 "metadata": {
  "kernelspec": {
   "display_name": "Python 3",
   "language": "python",
   "name": "python3"
  },
  "language_info": {
   "codemirror_mode": {
    "name": "ipython",
    "version": 3
   },
   "file_extension": ".py",
   "mimetype": "text/x-python",
   "name": "python",
   "nbconvert_exporter": "python",
   "pygments_lexer": "ipython3",
   "version": "3.8.5"
  }
 },
 "nbformat": 4,
 "nbformat_minor": 5
}
