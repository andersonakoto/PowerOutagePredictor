{
 "cells": [
  {
   "cell_type": "code",
   "execution_count": 5,
   "id": "47c56959",
   "metadata": {
    "scrolled": true
   },
   "outputs": [],
   "source": [
    "import pandas as pd\n",
    "from keras.models import Sequential\n",
    "from keras.layers import Dense\n",
    "from keras.layers import Dropout"
   ]
  },
  {
   "cell_type": "code",
   "execution_count": 6,
   "id": "59b12258",
   "metadata": {},
   "outputs": [
    {
     "data": {
      "text/html": [
       "<div>\n",
       "<style scoped>\n",
       "    .dataframe tbody tr th:only-of-type {\n",
       "        vertical-align: middle;\n",
       "    }\n",
       "\n",
       "    .dataframe tbody tr th {\n",
       "        vertical-align: top;\n",
       "    }\n",
       "\n",
       "    .dataframe thead th {\n",
       "        text-align: right;\n",
       "    }\n",
       "</style>\n",
       "<table border=\"1\" class=\"dataframe\">\n",
       "  <thead>\n",
       "    <tr style=\"text-align: right;\">\n",
       "      <th></th>\n",
       "      <th>ID</th>\n",
       "      <th>Lat</th>\n",
       "      <th>Lng</th>\n",
       "      <th>OutTime</th>\n",
       "      <th>Temp</th>\n",
       "      <th>Precip</th>\n",
       "      <th>WindSpd</th>\n",
       "      <th>WindGust</th>\n",
       "      <th>Press</th>\n",
       "      <th>Humid</th>\n",
       "      <th>Dew</th>\n",
       "      <th>Outage</th>\n",
       "    </tr>\n",
       "  </thead>\n",
       "  <tbody>\n",
       "    <tr>\n",
       "      <th>270147</th>\n",
       "      <td>270147</td>\n",
       "      <td>-1.169530</td>\n",
       "      <td>36.668754</td>\n",
       "      <td>2020-11-05 04:00:00</td>\n",
       "      <td>18.0</td>\n",
       "      <td>0.0</td>\n",
       "      <td>10.0</td>\n",
       "      <td>12.0</td>\n",
       "      <td>1014.0</td>\n",
       "      <td>85.0</td>\n",
       "      <td>15.0</td>\n",
       "      <td>0</td>\n",
       "    </tr>\n",
       "    <tr>\n",
       "      <th>270148</th>\n",
       "      <td>270148</td>\n",
       "      <td>-1.329012</td>\n",
       "      <td>36.669823</td>\n",
       "      <td>2020-05-09 23:00:00</td>\n",
       "      <td>17.0</td>\n",
       "      <td>0.0</td>\n",
       "      <td>6.0</td>\n",
       "      <td>11.0</td>\n",
       "      <td>1017.0</td>\n",
       "      <td>93.0</td>\n",
       "      <td>16.0</td>\n",
       "      <td>0</td>\n",
       "    </tr>\n",
       "    <tr>\n",
       "      <th>270149</th>\n",
       "      <td>270149</td>\n",
       "      <td>-0.322865</td>\n",
       "      <td>37.654629</td>\n",
       "      <td>2021-04-02 04:00:00</td>\n",
       "      <td>17.0</td>\n",
       "      <td>0.0</td>\n",
       "      <td>4.0</td>\n",
       "      <td>7.0</td>\n",
       "      <td>1015.0</td>\n",
       "      <td>87.0</td>\n",
       "      <td>15.0</td>\n",
       "      <td>0</td>\n",
       "    </tr>\n",
       "    <tr>\n",
       "      <th>270150</th>\n",
       "      <td>270150</td>\n",
       "      <td>-1.403681</td>\n",
       "      <td>36.699726</td>\n",
       "      <td>2020-08-14 16:28:38</td>\n",
       "      <td>24.0</td>\n",
       "      <td>0.1</td>\n",
       "      <td>15.0</td>\n",
       "      <td>19.0</td>\n",
       "      <td>1010.0</td>\n",
       "      <td>52.0</td>\n",
       "      <td>13.0</td>\n",
       "      <td>1</td>\n",
       "    </tr>\n",
       "    <tr>\n",
       "      <th>270151</th>\n",
       "      <td>270151</td>\n",
       "      <td>-1.197639</td>\n",
       "      <td>36.844997</td>\n",
       "      <td>2020-10-20 03:00:00</td>\n",
       "      <td>18.0</td>\n",
       "      <td>0.1</td>\n",
       "      <td>11.0</td>\n",
       "      <td>13.0</td>\n",
       "      <td>1013.0</td>\n",
       "      <td>81.0</td>\n",
       "      <td>15.0</td>\n",
       "      <td>0</td>\n",
       "    </tr>\n",
       "  </tbody>\n",
       "</table>\n",
       "</div>"
      ],
      "text/plain": [
       "            ID       Lat        Lng              OutTime  Temp  Precip  \\\n",
       "270147  270147 -1.169530  36.668754  2020-11-05 04:00:00  18.0     0.0   \n",
       "270148  270148 -1.329012  36.669823  2020-05-09 23:00:00  17.0     0.0   \n",
       "270149  270149 -0.322865  37.654629  2021-04-02 04:00:00  17.0     0.0   \n",
       "270150  270150 -1.403681  36.699726  2020-08-14 16:28:38  24.0     0.1   \n",
       "270151  270151 -1.197639  36.844997  2020-10-20 03:00:00  18.0     0.1   \n",
       "\n",
       "        WindSpd  WindGust   Press  Humid   Dew  Outage  \n",
       "270147     10.0      12.0  1014.0   85.0  15.0       0  \n",
       "270148      6.0      11.0  1017.0   93.0  16.0       0  \n",
       "270149      4.0       7.0  1015.0   87.0  15.0       0  \n",
       "270150     15.0      19.0  1010.0   52.0  13.0       1  \n",
       "270151     11.0      13.0  1013.0   81.0  15.0       0  "
      ]
     },
     "execution_count": 6,
     "metadata": {},
     "output_type": "execute_result"
    }
   ],
   "source": [
    "dataset = pd.read_csv(\"outwx_fine_cleaned.csv\")\n",
    "\n",
    "dataset.tail()"
   ]
  },
  {
   "cell_type": "code",
   "execution_count": 8,
   "id": "pleased-founder",
   "metadata": {},
   "outputs": [
    {
     "ename": "KeyError",
     "evalue": "'OutTime'",
     "output_type": "error",
     "traceback": [
      "\u001b[1;31m---------------------------------------------------------------------------\u001b[0m",
      "\u001b[1;31mKeyError\u001b[0m                                  Traceback (most recent call last)",
      "\u001b[1;32mC:\\Anaconda\\envs\\myenv1\\lib\\site-packages\\pandas\\core\\indexes\\base.py\u001b[0m in \u001b[0;36mget_loc\u001b[1;34m(self, key, method, tolerance)\u001b[0m\n\u001b[0;32m   3079\u001b[0m             \u001b[1;32mtry\u001b[0m\u001b[1;33m:\u001b[0m\u001b[1;33m\u001b[0m\u001b[1;33m\u001b[0m\u001b[0m\n\u001b[1;32m-> 3080\u001b[1;33m                 \u001b[1;32mreturn\u001b[0m \u001b[0mself\u001b[0m\u001b[1;33m.\u001b[0m\u001b[0m_engine\u001b[0m\u001b[1;33m.\u001b[0m\u001b[0mget_loc\u001b[0m\u001b[1;33m(\u001b[0m\u001b[0mcasted_key\u001b[0m\u001b[1;33m)\u001b[0m\u001b[1;33m\u001b[0m\u001b[1;33m\u001b[0m\u001b[0m\n\u001b[0m\u001b[0;32m   3081\u001b[0m             \u001b[1;32mexcept\u001b[0m \u001b[0mKeyError\u001b[0m \u001b[1;32mas\u001b[0m \u001b[0merr\u001b[0m\u001b[1;33m:\u001b[0m\u001b[1;33m\u001b[0m\u001b[1;33m\u001b[0m\u001b[0m\n",
      "\u001b[1;32mpandas\\_libs\\index.pyx\u001b[0m in \u001b[0;36mpandas._libs.index.IndexEngine.get_loc\u001b[1;34m()\u001b[0m\n",
      "\u001b[1;32mpandas\\_libs\\index.pyx\u001b[0m in \u001b[0;36mpandas._libs.index.IndexEngine.get_loc\u001b[1;34m()\u001b[0m\n",
      "\u001b[1;32mpandas\\_libs\\hashtable_class_helper.pxi\u001b[0m in \u001b[0;36mpandas._libs.hashtable.PyObjectHashTable.get_item\u001b[1;34m()\u001b[0m\n",
      "\u001b[1;32mpandas\\_libs\\hashtable_class_helper.pxi\u001b[0m in \u001b[0;36mpandas._libs.hashtable.PyObjectHashTable.get_item\u001b[1;34m()\u001b[0m\n",
      "\u001b[1;31mKeyError\u001b[0m: 'OutTime'",
      "\nThe above exception was the direct cause of the following exception:\n",
      "\u001b[1;31mKeyError\u001b[0m                                  Traceback (most recent call last)",
      "\u001b[1;32m<ipython-input-8-5aeaebf2532c>\u001b[0m in \u001b[0;36m<module>\u001b[1;34m\u001b[0m\n\u001b[0;32m      1\u001b[0m \u001b[0mdataset\u001b[0m \u001b[1;33m=\u001b[0m \u001b[0mdataset\u001b[0m\u001b[1;33m.\u001b[0m\u001b[0miloc\u001b[0m\u001b[1;33m[\u001b[0m\u001b[1;33m:\u001b[0m\u001b[1;33m,\u001b[0m\u001b[1;36m1\u001b[0m\u001b[1;33m:\u001b[0m\u001b[1;33m]\u001b[0m\u001b[1;33m\u001b[0m\u001b[1;33m\u001b[0m\u001b[0m\n\u001b[0;32m      2\u001b[0m \u001b[1;33m\u001b[0m\u001b[0m\n\u001b[1;32m----> 3\u001b[1;33m \u001b[1;32mdel\u001b[0m \u001b[0mdataset\u001b[0m\u001b[1;33m[\u001b[0m\u001b[1;34m'OutTime'\u001b[0m\u001b[1;33m]\u001b[0m\u001b[1;33m\u001b[0m\u001b[1;33m\u001b[0m\u001b[0m\n\u001b[0m\u001b[0;32m      4\u001b[0m \u001b[1;33m\u001b[0m\u001b[0m\n\u001b[0;32m      5\u001b[0m \u001b[1;32mdel\u001b[0m \u001b[0mdataset\u001b[0m\u001b[1;33m[\u001b[0m\u001b[1;34m'Lat'\u001b[0m\u001b[1;33m]\u001b[0m\u001b[1;33m\u001b[0m\u001b[1;33m\u001b[0m\u001b[0m\n",
      "\u001b[1;32mC:\\Anaconda\\envs\\myenv1\\lib\\site-packages\\pandas\\core\\generic.py\u001b[0m in \u001b[0;36m__delitem__\u001b[1;34m(self, key)\u001b[0m\n\u001b[0;32m   3963\u001b[0m             \u001b[1;31m# there was no match, this call should raise the appropriate\u001b[0m\u001b[1;33m\u001b[0m\u001b[1;33m\u001b[0m\u001b[1;33m\u001b[0m\u001b[0m\n\u001b[0;32m   3964\u001b[0m             \u001b[1;31m# exception:\u001b[0m\u001b[1;33m\u001b[0m\u001b[1;33m\u001b[0m\u001b[1;33m\u001b[0m\u001b[0m\n\u001b[1;32m-> 3965\u001b[1;33m             \u001b[0mloc\u001b[0m \u001b[1;33m=\u001b[0m \u001b[0mself\u001b[0m\u001b[1;33m.\u001b[0m\u001b[0maxes\u001b[0m\u001b[1;33m[\u001b[0m\u001b[1;33m-\u001b[0m\u001b[1;36m1\u001b[0m\u001b[1;33m]\u001b[0m\u001b[1;33m.\u001b[0m\u001b[0mget_loc\u001b[0m\u001b[1;33m(\u001b[0m\u001b[0mkey\u001b[0m\u001b[1;33m)\u001b[0m\u001b[1;33m\u001b[0m\u001b[1;33m\u001b[0m\u001b[0m\n\u001b[0m\u001b[0;32m   3966\u001b[0m             \u001b[0mself\u001b[0m\u001b[1;33m.\u001b[0m\u001b[0m_mgr\u001b[0m\u001b[1;33m.\u001b[0m\u001b[0midelete\u001b[0m\u001b[1;33m(\u001b[0m\u001b[0mloc\u001b[0m\u001b[1;33m)\u001b[0m\u001b[1;33m\u001b[0m\u001b[1;33m\u001b[0m\u001b[0m\n\u001b[0;32m   3967\u001b[0m \u001b[1;33m\u001b[0m\u001b[0m\n",
      "\u001b[1;32mC:\\Anaconda\\envs\\myenv1\\lib\\site-packages\\pandas\\core\\indexes\\base.py\u001b[0m in \u001b[0;36mget_loc\u001b[1;34m(self, key, method, tolerance)\u001b[0m\n\u001b[0;32m   3080\u001b[0m                 \u001b[1;32mreturn\u001b[0m \u001b[0mself\u001b[0m\u001b[1;33m.\u001b[0m\u001b[0m_engine\u001b[0m\u001b[1;33m.\u001b[0m\u001b[0mget_loc\u001b[0m\u001b[1;33m(\u001b[0m\u001b[0mcasted_key\u001b[0m\u001b[1;33m)\u001b[0m\u001b[1;33m\u001b[0m\u001b[1;33m\u001b[0m\u001b[0m\n\u001b[0;32m   3081\u001b[0m             \u001b[1;32mexcept\u001b[0m \u001b[0mKeyError\u001b[0m \u001b[1;32mas\u001b[0m \u001b[0merr\u001b[0m\u001b[1;33m:\u001b[0m\u001b[1;33m\u001b[0m\u001b[1;33m\u001b[0m\u001b[0m\n\u001b[1;32m-> 3082\u001b[1;33m                 \u001b[1;32mraise\u001b[0m \u001b[0mKeyError\u001b[0m\u001b[1;33m(\u001b[0m\u001b[0mkey\u001b[0m\u001b[1;33m)\u001b[0m \u001b[1;32mfrom\u001b[0m \u001b[0merr\u001b[0m\u001b[1;33m\u001b[0m\u001b[1;33m\u001b[0m\u001b[0m\n\u001b[0m\u001b[0;32m   3083\u001b[0m \u001b[1;33m\u001b[0m\u001b[0m\n\u001b[0;32m   3084\u001b[0m         \u001b[1;32mif\u001b[0m \u001b[0mtolerance\u001b[0m \u001b[1;32mis\u001b[0m \u001b[1;32mnot\u001b[0m \u001b[1;32mNone\u001b[0m\u001b[1;33m:\u001b[0m\u001b[1;33m\u001b[0m\u001b[1;33m\u001b[0m\u001b[0m\n",
      "\u001b[1;31mKeyError\u001b[0m: 'OutTime'"
     ]
    }
   ],
   "source": [
    "dataset = dataset.iloc[:,1:]\n",
    "\n",
    "del dataset['OutTime']\n",
    "\n",
    "del dataset['Lat']\n",
    "del dataset['Lng']\n",
    "\n",
    "dataset.head()\n",
    "\n",
    "\n"
   ]
  },
  {
   "cell_type": "code",
   "execution_count": 4,
   "id": "congressional-opening",
   "metadata": {},
   "outputs": [
    {
     "name": "stdout",
     "output_type": "stream",
     "text": [
      "[[0]\n",
      " [0]\n",
      " [0]\n",
      " ...\n",
      " [0]\n",
      " [1]\n",
      " [0]]\n",
      "[[-5.69173690e-01  3.48622741e+01  2.60000000e+01 ...  1.00800000e+03\n",
      "   4.30000000e+01  1.20000000e+01]\n",
      " [ 5.94919990e-02  3.42855987e+01  2.10000000e+01 ...  1.01500000e+03\n",
      "   7.10000000e+01  1.50000000e+01]\n",
      " [-1.26757657e+00  3.68424415e+01  2.10000000e+01 ...  1.01200000e+03\n",
      "   7.20000000e+01  1.50000000e+01]\n",
      " ...\n",
      " [-3.22865000e-01  3.76546287e+01  1.70000000e+01 ...  1.01500000e+03\n",
      "   8.70000000e+01  1.50000000e+01]\n",
      " [-1.40368056e+00  3.66997261e+01  2.40000000e+01 ...  1.01000000e+03\n",
      "   5.20000000e+01  1.30000000e+01]\n",
      " [-1.19763875e+00  3.68449974e+01  1.80000000e+01 ...  1.01300000e+03\n",
      "   8.10000000e+01  1.50000000e+01]]\n"
     ]
    }
   ],
   "source": [
    "import numpy as np\n",
    "\n",
    "#lables\n",
    "y_train = dataset.iloc[:,-1].values\n",
    "y_train = np.array(y_train, ndmin=2)\n",
    "y_train = y_train.T\n",
    "\n",
    "print(y_train)\n",
    "\n",
    "#features\n",
    "x_train = dataset.iloc[:,:-1].values\n",
    "print(x_train)"
   ]
  },
  {
   "cell_type": "code",
   "execution_count": 5,
   "id": "changed-hobby",
   "metadata": {},
   "outputs": [],
   "source": [
    "#scaling\n",
    "from sklearn.preprocessing import StandardScaler\n",
    "sc_X = StandardScaler()\n",
    "x_train = sc_X.fit_transform(x_train)"
   ]
  },
  {
   "cell_type": "code",
   "execution_count": 6,
   "id": "immediate-physiology",
   "metadata": {},
   "outputs": [],
   "source": [
    "#splitting\n",
    "from sklearn.model_selection import train_test_split\n",
    "x_train, x_test, y_train, y_test = train_test_split(x_train, y_train, test_size = 0.2, random_state = 0)"
   ]
  },
  {
   "cell_type": "code",
   "execution_count": 7,
   "id": "adolescent-serum",
   "metadata": {},
   "outputs": [],
   "source": [
    "classifier = Sequential()\n",
    "\n",
    "# from tensorflow import keras\n",
    "# from tensorflow.keras import layers\n",
    "\n",
    "# classifier = keras.Sequential()\n",
    "# classifier.add(layers.Dense(40, kernel_initializer='uniform', input_dim = 9 ))\n",
    "# classifier.add(Dense(50, activation='relu', kernel_initializer='random_normal'))\n",
    "# classifier.add(Dense(30, activation='relu', kernel_initializer='random_normal'))\n",
    "# classifier.add(Dense(30, activation='relu', kernel_initializer='random_normal'))\n",
    "# classifier.add(Dense(50, activation='relu', kernel_initializer='random_normal'))\n",
    "# classifier.add(layers.Activation('softmax'))\n",
    "\n",
    "# opt = keras.optimizers.Adam(learning_rate=0.01)\n",
    "# classifier.compile(loss='categorical_crossentropy', optimizer=opt)\n",
    "    \n",
    "# #First Hidden Layer\n",
    "classifier.add(Dense(9, activation='relu', kernel_initializer='random_normal', input_dim=9))\n",
    "classifier.add(Dense(18, activation='relu', kernel_initializer='random_normal'))\n",
    "classifier.add(Dense(27, activation='relu', kernel_initializer='random_normal'))\n",
    "classifier.add(Dense(27, activation='relu', kernel_initializer='random_normal'))\n",
    "classifier.add(Dense(18, activation='relu', kernel_initializer='random_normal'))\n",
    "classifier.add(Dense(9, activation='relu', kernel_initializer='random_normal'))"
   ]
  },
  {
   "cell_type": "code",
   "execution_count": 8,
   "id": "sweet-advisory",
   "metadata": {},
   "outputs": [],
   "source": [
    "#Output Layer\n",
    "classifier.add(Dense(1, activation='sigmoid', kernel_initializer='random_normal'))\n",
    "\n",
    "# from keras.optimizers import SGD\n",
    "# opt = SGD(lr=0.01)\n",
    "# classifier.compile(loss = \"categorical_crossentropy\", optimizer = opt, metrics=['accuracy'])\n",
    "# #Compiling the neural network\n",
    "classifier.compile(optimizer = 'Adam', loss='binary_crossentropy', metrics =['accuracy'])\n",
    "\n"
   ]
  },
  {
   "cell_type": "code",
   "execution_count": 9,
   "id": "headed-paragraph",
   "metadata": {},
   "outputs": [
    {
     "name": "stdout",
     "output_type": "stream",
     "text": [
      "Epoch 1/3\n",
      "8005/8005 [==============================] - 8s 996us/step - loss: 0.1684 - accuracy: 0.9600\n",
      "Epoch 2/3\n",
      "8005/8005 [==============================] - 8s 1ms/step - loss: 0.1626 - accuracy: 0.9600\n",
      "Epoch 3/3\n",
      "8005/8005 [==============================] - 9s 1ms/step - loss: 0.1623 - accuracy: 0.9600\n",
      "1689/1689 [==============================] - 1s 754us/step - loss: 0.1642 - accuracy: 0.9594\n"
     ]
    },
    {
     "data": {
      "text/plain": [
       "[0.16424420475959778, 0.9593752026557922]"
      ]
     },
     "execution_count": 9,
     "metadata": {},
     "output_type": "execute_result"
    }
   ],
   "source": [
    "#Fitting the data to the training dataset\n",
    "classifier.fit(x_train,y_train, batch_size=27, epochs=3, shuffle = 'TRUE')\n",
    "\n",
    "#evaluate\n",
    "eval_model=classifier.evaluate(x_test, y_test)\n",
    "\n",
    "eval_model"
   ]
  },
  {
   "cell_type": "code",
   "execution_count": 12,
   "id": "smoking-interference",
   "metadata": {
    "scrolled": true
   },
   "outputs": [
    {
     "name": "stdout",
     "output_type": "stream",
     "text": [
      "[[0.00858602]\n",
      " [0.00859252]]\n"
     ]
    }
   ],
   "source": [
    "a= np.array([[-1.391075,36.767258,32,8.0,15.5,23.5,1005.0,95.0,11.0],[-0.661676,37.211036,16.0,0.2,4.0,6.0,1015.0,95.0,15.0]])\n",
    "print(classifier.predict(a))"
   ]
  },
  {
   "cell_type": "code",
   "execution_count": 11,
   "id": "brazilian-premiere",
   "metadata": {},
   "outputs": [],
   "source": [
    "#save model\n",
    "classifier.save('final_model.h5')"
   ]
  }
 ],
 "metadata": {
  "kernelspec": {
   "display_name": "Python 3",
   "language": "python",
   "name": "python3"
  },
  "language_info": {
   "codemirror_mode": {
    "name": "ipython",
    "version": 3
   },
   "file_extension": ".py",
   "mimetype": "text/x-python",
   "name": "python",
   "nbconvert_exporter": "python",
   "pygments_lexer": "ipython3",
   "version": "3.8.5"
  }
 },
 "nbformat": 4,
 "nbformat_minor": 5
}
