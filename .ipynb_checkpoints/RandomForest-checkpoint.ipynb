{
 "cells": [
  {
   "cell_type": "code",
   "execution_count": null,
   "id": "8de2b52e",
   "metadata": {},
   "outputs": [],
   "source": [
    "#import data analytics libraries\n",
    "import numpy as np\n",
    "import pandas as pd\n",
    "import seaborn as sns\n",
    "import matplotlib.pyplot as plt\n",
    "%matplotlib inline\n",
    "import pickle\n"
   ]
  },
  {
   "cell_type": "code",
   "execution_count": null,
   "id": "0f5792f2",
   "metadata": {},
   "outputs": [],
   "source": [
    "#read in the dataset\n",
    "dataset = pd.read_csv('outwx_fine_cleaned21.csv')\n",
    "dataset.head()\n"
   ]
  },
  {
   "cell_type": "code",
   "execution_count": null,
   "id": "8f36c0c7",
   "metadata": {},
   "outputs": [],
   "source": [
    "# describing the dataset(mean, count, std dev, percentiles etc...)\n",
    "dataset.describe(include='all')\n"
   ]
  },
  {
   "cell_type": "code",
   "execution_count": null,
   "id": "2dd285ef",
   "metadata": {},
   "outputs": [],
   "source": [
    "#rermoving \"OutTime, ID, Lat & Lng\" since they are no longer needed in this context\n",
    "del dataset['OutTime']\n",
    "del dataset['ID']\n",
    "\n",
    "del dataset['Lat']\n",
    "del dataset['Lng']\n",
    "\n",
    "dataset.head()"
   ]
  },
  {
   "cell_type": "code",
   "execution_count": null,
   "id": "d7bb884a",
   "metadata": {},
   "outputs": [],
   "source": [
    "#deleting \"WindSpd\" and \"Dew\" since they do not heavily correlate to th dataset\n",
    "del dataset['WindSpd']\n",
    "del dataset['Dew']\n",
    "\n",
    "dataset.head()"
   ]
  },
  {
   "cell_type": "code",
   "execution_count": null,
   "id": "0c80074b",
   "metadata": {},
   "outputs": [],
   "source": [
    "# creating input features and target variables\n",
    "X= dataset.iloc[:,0:5]\n",
    "y= dataset.iloc[:,5]\n",
    "\n",
    "X.head()\n"
   ]
  },
  {
   "cell_type": "code",
   "execution_count": null,
   "id": "60704303",
   "metadata": {},
   "outputs": [],
   "source": [
    "# #standardizing the input feature\n",
    "from sklearn.preprocessing import StandardScaler\n",
    "sc = StandardScaler()\n",
    "X = sc.fit_transform(X)\n",
    "X\n",
    "y.tail()\n"
   ]
  },
  {
   "cell_type": "code",
   "execution_count": 11,
   "id": "noted-promise",
   "metadata": {},
   "outputs": [],
   "source": [
    "# Random Forest Classifier\n",
    "from sklearn.ensemble import RandomForestClassifier\n",
    "\n",
    "# Import Tf-idf Vectorizer\n",
    "from sklearn.feature_extraction.text import TfidfVectorizer\n",
    "\n",
    "# Import the Label Encoder\n",
    "from sklearn.preprocessing import LabelEncoder\n",
    "from sklearn.preprocessing import label_binarize\n",
    "\n",
    "# Import the train test split\n",
    "from sklearn.model_selection import train_test_split\n",
    "\n",
    "# To evaluate our model\n",
    "from sklearn.metrics import accuracy_score\n",
    "from sklearn.metrics import confusion_matrix\n",
    "from sklearn.metrics import classification_report\n",
    "from sklearn.metrics import roc_curve, auc\n",
    "from sklearn.metrics import roc_auc_score\n",
    "from sklearn.metrics import make_scorer"
   ]
  },
  {
   "cell_type": "code",
   "execution_count": 13,
   "id": "convertible-waterproof",
   "metadata": {},
   "outputs": [],
   "source": [
    "X_train, X_test, y_train, y_test = train_test_split(X, y, test_size=0.2, random_state=0)"
   ]
  },
  {
   "cell_type": "code",
   "execution_count": 15,
   "id": "formed-architecture",
   "metadata": {},
   "outputs": [
    {
     "name": "stdout",
     "output_type": "stream",
     "text": [
      "Accuracy: 0.9551451187335093\n"
     ]
    }
   ],
   "source": [
    "# Initialize the RF Classifier\n",
    "rand = RandomForestClassifier(n_estimators=10)\n",
    "\n",
    "# Fit the model\n",
    "rand = rand.fit(X_train, y_train)\n",
    "\n",
    "# Print the accuracy score\n",
    "print(\"Accuracy:\",rand.score(X_test, y_test))"
   ]
  },
  {
   "cell_type": "code",
   "execution_count": 16,
   "id": "daily-works",
   "metadata": {},
   "outputs": [
    {
     "name": "stdout",
     "output_type": "stream",
     "text": [
      "Confusion Matrix\n",
      "\n",
      "[[ 13   0   0   0   0   0   0   0   0   0   0   0   0   0   0   0   0]\n",
      " [  1   0   0   0   0   0   0   0   0   0   0   0   0   0   0   0   0]\n",
      " [  0   0   0   0   1   0   0   0   0   0   0   0   0   0   1   0   0]\n",
      " [  0   0   0   0   4   0   0   0   0   0   0   0   0   0   0   0   0]\n",
      " [  0   0   0   0 180   1   0   0   0   0   0   0   0   0   1   0   0]\n",
      " [  0   0   0   0   3  18   0   0   0   0   0   0   0   0   0   0   0]\n",
      " [  0   0   0   0   0   0   4   0   0   0   0   0   0   0   0   0   0]\n",
      " [  0   0   0   0   1   0   0   0   0   0   0   0   0   0   0   0   0]\n",
      " [  0   0   0   0   0   0   0   0   2   0   0   0   0   0   0   0   0]\n",
      " [  0   0   0   0   0   0   0   0   0   1   0   0   0   0   0   0   0]\n",
      " [  0   0   0   0   0   0   0   0   0   0   0   0   0   0   0   0   0]\n",
      " [  0   0   0   0   0   0   0   0   0   0   1   1   0   0   0   0   0]\n",
      " [  0   0   0   0   0   0   0   0   0   0   0   0   1   0   0   0   0]\n",
      " [  0   0   0   0   0   0   0   0   0   0   0   0   0   0   0   0   0]\n",
      " [  0   0   0   0   1   0   0   0   0   0   0   0   0   0 142   0   0]\n",
      " [  0   0   0   0   0   0   0   0   0   0   0   0   0   1   0   0   0]\n",
      " [  0   0   0   0   0   0   0   0   0   0   0   0   0   1   0   0   0]]\n",
      "\n",
      "\n",
      "Classification Report\n",
      "\n",
      "              precision    recall  f1-score   support\n",
      "\n",
      "     4012000       0.93      1.00      0.96        13\n",
      "     4021000       0.00      0.00      0.00         1\n",
      "    10051000       0.00      0.00      0.00         2\n",
      "    10062000       0.00      0.00      0.00         4\n",
      "    10063000       0.95      0.99      0.97       182\n",
      "    10064000       0.95      0.86      0.90        21\n",
      "    17011190       1.00      1.00      1.00         4\n",
      "    39173900       0.00      0.00      0.00         1\n",
      "    44072100       1.00      1.00      1.00         2\n",
      "    44123900       1.00      1.00      1.00         1\n",
      "    44129400       0.00      0.00      0.00         0\n",
      "    44129900       1.00      0.50      0.67         2\n",
      "    69089000       1.00      1.00      1.00         1\n",
      "    73181500       0.00      0.00      0.00         0\n",
      "    85071000       0.99      0.99      0.99       143\n",
      "    85171100       0.00      0.00      0.00         1\n",
      "    95045000       0.00      0.00      0.00         1\n",
      "\n",
      "    accuracy                           0.96       379\n",
      "   macro avg       0.52      0.49      0.50       379\n",
      "weighted avg       0.94      0.96      0.95       379\n",
      "\n"
     ]
    },
    {
     "name": "stderr",
     "output_type": "stream",
     "text": [
      "C:\\Anaconda\\envs\\myenv1\\lib\\site-packages\\sklearn\\metrics\\_classification.py:1245: UndefinedMetricWarning: Precision and F-score are ill-defined and being set to 0.0 in labels with no predicted samples. Use `zero_division` parameter to control this behavior.\n",
      "  _warn_prf(average, modifier, msg_start, len(result))\n",
      "C:\\Anaconda\\envs\\myenv1\\lib\\site-packages\\sklearn\\metrics\\_classification.py:1245: UndefinedMetricWarning: Recall and F-score are ill-defined and being set to 0.0 in labels with no true samples. Use `zero_division` parameter to control this behavior.\n",
      "  _warn_prf(average, modifier, msg_start, len(result))\n",
      "C:\\Anaconda\\envs\\myenv1\\lib\\site-packages\\sklearn\\metrics\\_classification.py:1245: UndefinedMetricWarning: Precision and F-score are ill-defined and being set to 0.0 in labels with no predicted samples. Use `zero_division` parameter to control this behavior.\n",
      "  _warn_prf(average, modifier, msg_start, len(result))\n",
      "C:\\Anaconda\\envs\\myenv1\\lib\\site-packages\\sklearn\\metrics\\_classification.py:1245: UndefinedMetricWarning: Recall and F-score are ill-defined and being set to 0.0 in labels with no true samples. Use `zero_division` parameter to control this behavior.\n",
      "  _warn_prf(average, modifier, msg_start, len(result))\n",
      "C:\\Anaconda\\envs\\myenv1\\lib\\site-packages\\sklearn\\metrics\\_classification.py:1245: UndefinedMetricWarning: Precision and F-score are ill-defined and being set to 0.0 in labels with no predicted samples. Use `zero_division` parameter to control this behavior.\n",
      "  _warn_prf(average, modifier, msg_start, len(result))\n",
      "C:\\Anaconda\\envs\\myenv1\\lib\\site-packages\\sklearn\\metrics\\_classification.py:1245: UndefinedMetricWarning: Recall and F-score are ill-defined and being set to 0.0 in labels with no true samples. Use `zero_division` parameter to control this behavior.\n",
      "  _warn_prf(average, modifier, msg_start, len(result))\n"
     ]
    }
   ],
   "source": [
    "# Predict the labels\n",
    "y_pred = rand.predict(X_test)\n",
    "\n",
    "# Print the Confusion Matrix\n",
    "cm = confusion_matrix(y_test, y_pred)\n",
    "print(\"Confusion Matrix\\n\")\n",
    "print(cm)\n",
    "\n",
    "\n",
    "# Print the Classification Report\n",
    "cr = classification_report(y_test, y_pred)\n",
    "print(\"\\n\\nClassification Report\\n\")\n",
    "print(cr)\n"
   ]
  },
  {
   "cell_type": "code",
   "execution_count": null,
   "id": "inappropriate-studio",
   "metadata": {},
   "outputs": [],
   "source": [
    "#passing a Numpy array of test weather variables and seeing the probabilities produced. \n",
    "a= np.array([[24.0,5.0,9.0,1010.0,52.0],[16.0,2.0,8.0,1015.0,95.0]])\n",
    "print(rand.predict(a))"
   ]
  }
 ],
 "metadata": {
  "kernelspec": {
   "display_name": "Python 3",
   "language": "python",
   "name": "python3"
  },
  "language_info": {
   "codemirror_mode": {
    "name": "ipython",
    "version": 3
   },
   "file_extension": ".py",
   "mimetype": "text/x-python",
   "name": "python",
   "nbconvert_exporter": "python",
   "pygments_lexer": "ipython3",
   "version": "3.8.5"
  }
 },
 "nbformat": 4,
 "nbformat_minor": 5
}
