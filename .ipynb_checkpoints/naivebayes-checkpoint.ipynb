{
 "cells": [
  {
   "cell_type": "code",
   "execution_count": null,
   "id": "b75e5210",
   "metadata": {},
   "outputs": [],
   "source": [
    "#import data analytics libraries\n",
    "import numpy as np\n",
    "import pandas as pd\n",
    "import seaborn as sns\n",
    "import matplotlib.pyplot as plt\n",
    "%matplotlib inline\n",
    "import pickle\n"
   ]
  },
  {
   "cell_type": "code",
   "execution_count": null,
   "id": "60780f0e",
   "metadata": {},
   "outputs": [],
   "source": [
    "#read in the dataset\n",
    "dataset = pd.read_csv('outwx_fine_cleaned21.csv')\n",
    "dataset.head()\n"
   ]
  },
  {
   "cell_type": "code",
   "execution_count": null,
   "id": "c32652e6",
   "metadata": {},
   "outputs": [],
   "source": []
  },
  {
   "cell_type": "code",
   "execution_count": null,
   "id": "0e89da38",
   "metadata": {},
   "outputs": [],
   "source": []
  },
  {
   "cell_type": "code",
   "execution_count": null,
   "id": "c8fcfb8b",
   "metadata": {},
   "outputs": [],
   "source": []
  },
  {
   "cell_type": "code",
   "execution_count": null,
   "id": "239c798f",
   "metadata": {},
   "outputs": [],
   "source": []
  },
  {
   "cell_type": "code",
   "execution_count": null,
   "id": "a001c1db",
   "metadata": {},
   "outputs": [],
   "source": []
  },
  {
   "cell_type": "code",
   "execution_count": null,
   "id": "63e9dc2c",
   "metadata": {},
   "outputs": [],
   "source": []
  },
  {
   "cell_type": "code",
   "execution_count": null,
   "id": "071bf286",
   "metadata": {},
   "outputs": [],
   "source": []
  },
  {
   "cell_type": "code",
   "execution_count": 15,
   "id": "sustainable-atmosphere",
   "metadata": {},
   "outputs": [],
   "source": [
    "# Multinomial Naive Bayes Classifier\n",
    "from sklearn.naive_bayes import MultinomialNB\n",
    "\n",
    "# Import Tf-idf Vectorizer\n",
    "from sklearn.feature_extraction.text import TfidfVectorizer\n",
    "\n",
    "# Import the Label Encoder\n",
    "from sklearn.preprocessing import LabelEncoder\n",
    "\n",
    "# Import the train test split\n",
    "from sklearn.model_selection import train_test_split\n",
    "\n",
    "# To evaluate our model\n",
    "from sklearn.metrics import accuracy_score\n",
    "from sklearn.metrics import confusion_matrix\n",
    "from sklearn.metrics import classification_report\n",
    "from sklearn.metrics import roc_curve, auc\n",
    "from sklearn.metrics import roc_auc_score"
   ]
  },
  {
   "cell_type": "code",
   "execution_count": 16,
   "id": "oriental-webcam",
   "metadata": {
    "scrolled": true
   },
   "outputs": [],
   "source": [
    "# Select the features and the target\n",
    "X = df['PRODUCTDESCRIPTION']\n",
    "y = df['HSCODE']"
   ]
  },
  {
   "cell_type": "code",
   "execution_count": 17,
   "id": "simplified-train",
   "metadata": {
    "scrolled": true
   },
   "outputs": [],
   "source": [
    "X_train, X_test, y_train, y_test = train_test_split(X, y, test_size=0.2, random_state=34)"
   ]
  },
  {
   "cell_type": "code",
   "execution_count": 18,
   "id": "dangerous-duration",
   "metadata": {},
   "outputs": [],
   "source": [
    "# Create the tf-idf vectorizer\n",
    "vectorizer = TfidfVectorizer(strip_accents='ascii')\n",
    "\n",
    "# First fit the vectorizer with our training set\n",
    "tfidf_train = vectorizer.fit_transform(X_train)\n",
    "\n",
    "# Now we can fit our test data with the same vectorizer\n",
    "tfidf_test = vectorizer.transform(X_test)"
   ]
  },
  {
   "cell_type": "code",
   "execution_count": 19,
   "id": "circular-nirvana",
   "metadata": {},
   "outputs": [
    {
     "name": "stdout",
     "output_type": "stream",
     "text": [
      "Accuracy: 0.9393139841688655\n"
     ]
    }
   ],
   "source": [
    "# Initialize the Multinomial Naive Bayes classifier\n",
    "nb = MultinomialNB()\n",
    "\n",
    "# Fit the model\n",
    "nb = nb.fit(tfidf_train, y_train)\n",
    "\n",
    "# Print the accuracy score\n",
    "print(\"Accuracy:\",nb.score(tfidf_test, y_test))"
   ]
  },
  {
   "cell_type": "code",
   "execution_count": 20,
   "id": "satellite-yacht",
   "metadata": {},
   "outputs": [
    {
     "name": "stdout",
     "output_type": "stream",
     "text": [
      "Confusion Matrix\n",
      "\n",
      "[[  7   0   0   0   0   0   0   0   0   0   0   0   0   0   0]\n",
      " [  0   0   0   1   0   0   0   0   0   0   0   0   0   0   0]\n",
      " [  0   0   0   1   0   0   0   0   0   0   0   0   0   0   0]\n",
      " [  0   0   0 207   0   0   0   0   0   0   0   0   0   0   0]\n",
      " [  0   0   0   8   5   0   0   0   0   0   0   0   0   0   0]\n",
      " [  0   0   0   2   0   0   0   0   0   0   0   0   0   0   0]\n",
      " [  0   0   0   1   0   0   0   0   0   0   0   0   0   0   0]\n",
      " [  0   0   0   0   0   0   0   0   0   0   0   0   0   1   0]\n",
      " [  0   0   0   0   0   0   0   0   0   0   0   0   0   1   0]\n",
      " [  0   0   0   0   0   0   0   0   0   0   0   0   0   1   0]\n",
      " [  0   0   0   0   0   0   0   0   0   0   0   0   0   2   0]\n",
      " [  0   0   0   1   0   0   0   0   0   0   0   0   0   0   0]\n",
      " [  0   0   0   0   0   0   0   0   0   0   0   0   0   2   0]\n",
      " [  0   0   0   1   0   0   0   0   0   0   0   0   0 137   0]\n",
      " [  0   0   0   0   0   0   0   0   0   0   0   0   0   1   0]]\n",
      "\n",
      "\n",
      "Classification Report\n",
      "\n",
      "              precision    recall  f1-score   support\n",
      "\n",
      "     4012000       1.00      1.00      1.00         7\n",
      "    10061000       0.00      0.00      0.00         1\n",
      "    10062000       0.00      0.00      0.00         1\n",
      "    10063000       0.93      1.00      0.97       207\n",
      "    10064000       1.00      0.38      0.56        13\n",
      "    17011190       0.00      0.00      0.00         2\n",
      "    23099010       0.00      0.00      0.00         1\n",
      "    39173900       0.00      0.00      0.00         1\n",
      "    44111400       0.00      0.00      0.00         1\n",
      "    44123900       0.00      0.00      0.00         1\n",
      "    44129900       0.00      0.00      0.00         2\n",
      "    68159900       0.00      0.00      0.00         1\n",
      "    84099100       0.00      0.00      0.00         2\n",
      "    85071000       0.94      0.99      0.97       138\n",
      "    87081000       0.00      0.00      0.00         1\n",
      "\n",
      "    accuracy                           0.94       379\n",
      "   macro avg       0.26      0.23      0.23       379\n",
      "weighted avg       0.91      0.94      0.92       379\n",
      "\n"
     ]
    },
    {
     "name": "stderr",
     "output_type": "stream",
     "text": [
      "C:\\Anaconda\\envs\\myenv1\\lib\\site-packages\\sklearn\\metrics\\_classification.py:1245: UndefinedMetricWarning: Precision and F-score are ill-defined and being set to 0.0 in labels with no predicted samples. Use `zero_division` parameter to control this behavior.\n",
      "  _warn_prf(average, modifier, msg_start, len(result))\n",
      "C:\\Anaconda\\envs\\myenv1\\lib\\site-packages\\sklearn\\metrics\\_classification.py:1245: UndefinedMetricWarning: Precision and F-score are ill-defined and being set to 0.0 in labels with no predicted samples. Use `zero_division` parameter to control this behavior.\n",
      "  _warn_prf(average, modifier, msg_start, len(result))\n",
      "C:\\Anaconda\\envs\\myenv1\\lib\\site-packages\\sklearn\\metrics\\_classification.py:1245: UndefinedMetricWarning: Precision and F-score are ill-defined and being set to 0.0 in labels with no predicted samples. Use `zero_division` parameter to control this behavior.\n",
      "  _warn_prf(average, modifier, msg_start, len(result))\n"
     ]
    }
   ],
   "source": [
    "# Predict the labels\n",
    "y_pred = nb.predict(tfidf_test)\n",
    "\n",
    "# Print the Confusion Matrix\n",
    "cm = confusion_matrix(y_test, y_pred)\n",
    "print(\"Confusion Matrix\\n\")\n",
    "print(cm)\n",
    "\n",
    "# Print the Classification Report\n",
    "cr = classification_report(y_test, y_pred)\n",
    "print(\"\\n\\nClassification Report\\n\")\n",
    "print(cr)\n"
   ]
  },
  {
   "cell_type": "code",
   "execution_count": 22,
   "id": "wrong-lindsay",
   "metadata": {
    "scrolled": false
   },
   "outputs": [
    {
     "name": "stdout",
     "output_type": "stream",
     "text": [
      "[4012000, 4012000, 4012000, 4012000, 4012000, 4012000, 4012000, 4012000, 4012000, 4012000, 4012000, 4012000, 4012000, 4012000, 4012000, 4012000, 4012000, 4012000, 4012000, 4012000, 4012000, 4012000, 4012000, 4012000, 4012000, 4012000, 4012000, 4012000, 4012000, 4012000, 4012000, 4012000, 4012000, 4012000, 4012000, 4012000, 4012000, 4012000, 4012000, 4012000, 85071000, 10064000, 10064000, 10064000, 10064000, 10064000, 85071000, 10064000, 10064000, 10063000, 10063000, 10063000, 10063000, 10063000, 10063000, 10063000, 10063000, 10063000, 10063000, 10063000, 10063000, 10063000, 10063000, 10063000, 10063000, 10063000, 10063000, 10063000, 10063000, 10063000, 10063000, 10063000, 10063000, 10063000, 10063000, 10063000, 10063000, 10063000, 10063000, 10063000, 10063000, 10063000, 10063000, 10063000, 10063000, 10063000, 10063000, 10063000, 10063000, 10063000, 10063000, 10063000, 10063000, 10063000, 10063000, 10063000, 10063000, 10063000, 10063000, 10063000, 10063000, 10063000, 10063000, 10063000, 10063000, 10063000, 10063000, 10063000, 10063000, 10063000, 10063000, 10063000, 10063000, 10063000, 10063000, 10063000, 10063000, 10063000, 10063000, 10063000, 10063000, 10063000, 10063000, 10063000, 10063000, 10063000, 10063000, 10063000, 10063000, 10063000, 10063000, 10063000, 10063000, 10063000, 10063000, 10063000, 10063000, 10063000, 10063000, 10063000, 10063000, 10063000, 10063000, 10063000, 10063000, 10063000, 10063000, 10063000, 10063000, 10063000, 10063000, 10063000, 10063000, 10063000, 10063000, 10063000, 10063000, 10063000, 10063000, 10063000, 10063000, 10063000, 10063000, 10063000, 10063000, 10063000, 10063000, 10063000, 10063000, 10063000, 10063000, 10063000, 10063000, 10063000, 10063000, 10063000, 10063000, 10063000, 10063000, 10063000, 10063000, 10063000, 10063000, 10063000, 10063000, 10063000, 10063000, 10063000, 10063000, 10063000, 10063000, 10063000, 10063000, 10063000, 10063000, 10063000, 10063000, 10063000, 10063000, 10063000, 10063000, 10063000, 10063000, 10063000, 10063000, 10063000, 10063000, 10063000, 10063000, 10063000, 10063000, 10063000, 10063000, 10063000, 10063000, 10063000, 10063000, 10063000, 10063000, 10063000, 10063000, 10063000, 10063000, 10063000, 10063000, 10063000, 10063000, 10063000, 10063000, 10063000, 10063000, 10063000, 10063000, 10063000, 10063000, 10063000, 10063000, 10063000, 10063000, 10063000, 10063000, 10063000, 10063000, 10063000, 10063000, 10063000, 10063000, 10063000, 10063000, 10063000, 10063000, 10063000, 10063000, 10063000, 10063000, 10063000, 10063000, 10063000, 10063000, 10063000, 10063000, 10063000, 10063000, 10063000, 10063000, 10063000, 10063000, 10063000, 10063000, 10063000, 10063000, 10063000, 10063000, 10063000, 10063000, 10063000, 10063000, 10063000, 10063000, 10063000, 10063000, 10063000, 10063000, 10063000, 10063000, 10063000, 10063000, 10063000, 10063000, 10063000, 10063000, 10063000, 10063000, 10063000, 10063000, 10063000, 10063000, 10063000, 10063000, 10063000, 10063000, 10063000, 10063000, 10063000, 10063000, 10063000, 10063000, 10063000, 10063000, 10063000, 10063000, 10063000, 10063000, 10063000, 10063000, 10063000, 10063000, 10063000, 10063000, 10063000, 10063000, 10063000, 10063000, 10063000, 10063000, 10063000, 10063000, 10063000, 10063000, 10063000, 10063000, 10063000, 10063000, 10063000, 10063000, 10063000, 10063000, 10063000, 10063000, 10063000, 10063000, 10063000, 10063000, 10063000, 10063000, 10063000, 10063000, 10063000, 10063000, 10063000, 10063000, 10063000, 10063000, 10063000, 10063000, 10063000, 10063000, 10063000, 10063000, 10063000, 10063000, 10063000, 10063000, 10063000, 10063000, 10063000, 10063000, 10063000, 10063000, 10063000, 10063000, 10063000, 10063000, 10063000, 10063000, 10063000, 10063000, 10063000, 10063000]\n"
     ]
    }
   ],
   "source": [
    "tfidf_test = vectorizer.transform(df['PRODUCTDESCRIPTION'])\n",
    "y_pred = nb.predict(tfidf_test)\n",
    "\n",
    "testing_predictions = []\n",
    "\n",
    "for i in range(len(X_test)):\n",
    "        testing_predictions.append(y_pred[i])\n",
    "        check_df = pd.DataFrame({\"HSCODE\": list(y_test), \"prediction\": \"0\", \"PRODUCTDESCRIPTION\":list(X_test)})\n",
    "        check_df.replace(to_replace=\"0\", value=testing_predictions[i], inplace=True)\n",
    "\n",
    "print(testing_predictions)"
   ]
  },
  {
   "cell_type": "code",
   "execution_count": 25,
   "id": "emerging-ribbon",
   "metadata": {
    "scrolled": true
   },
   "outputs": [
    {
     "data": {
      "text/html": [
       "<div>\n",
       "<style scoped>\n",
       "    .dataframe tbody tr th:only-of-type {\n",
       "        vertical-align: middle;\n",
       "    }\n",
       "\n",
       "    .dataframe tbody tr th {\n",
       "        vertical-align: top;\n",
       "    }\n",
       "\n",
       "    .dataframe thead th {\n",
       "        text-align: right;\n",
       "    }\n",
       "</style>\n",
       "<table border=\"1\" class=\"dataframe\">\n",
       "  <thead>\n",
       "    <tr style=\"text-align: right;\">\n",
       "      <th></th>\n",
       "      <th>HSCODE</th>\n",
       "      <th>prediction</th>\n",
       "      <th>PRODUCTDESCRIPTION</th>\n",
       "    </tr>\n",
       "  </thead>\n",
       "  <tbody>\n",
       "    <tr>\n",
       "      <th>0</th>\n",
       "      <td>10063000</td>\n",
       "      <td>10063000</td>\n",
       "      <td>stc pakistan long grain parboiled rice grade z...</td>\n",
       "    </tr>\n",
       "    <tr>\n",
       "      <th>1</th>\n",
       "      <td>10063000</td>\n",
       "      <td>10063000</td>\n",
       "      <td>stc thai white rice percent day day brand grad...</td>\n",
       "    </tr>\n",
       "    <tr>\n",
       "      <th>2</th>\n",
       "      <td>10063000</td>\n",
       "      <td>10063000</td>\n",
       "      <td>pakistan long grain white rice grade</td>\n",
       "    </tr>\n",
       "    <tr>\n",
       "      <th>3</th>\n",
       "      <td>10063000</td>\n",
       "      <td>10063000</td>\n",
       "      <td>thailand white rice grade ii rizmati brand</td>\n",
       "    </tr>\n",
       "    <tr>\n",
       "      <th>4</th>\n",
       "      <td>10063000</td>\n",
       "      <td>10063000</td>\n",
       "      <td>indian long grain white rice grade broken pct</td>\n",
       "    </tr>\n",
       "    <tr>\n",
       "      <th>...</th>\n",
       "      <td>...</td>\n",
       "      <td>...</td>\n",
       "      <td>...</td>\n",
       "    </tr>\n",
       "    <tr>\n",
       "      <th>374</th>\n",
       "      <td>85071000</td>\n",
       "      <td>10063000</td>\n",
       "      <td>piece car battery</td>\n",
       "    </tr>\n",
       "    <tr>\n",
       "      <th>375</th>\n",
       "      <td>10063000</td>\n",
       "      <td>10063000</td>\n",
       "      <td>bag rice</td>\n",
       "    </tr>\n",
       "    <tr>\n",
       "      <th>376</th>\n",
       "      <td>10063000</td>\n",
       "      <td>10063000</td>\n",
       "      <td>stc pakistani long grain rice grade keb diamon...</td>\n",
       "    </tr>\n",
       "    <tr>\n",
       "      <th>377</th>\n",
       "      <td>87081000</td>\n",
       "      <td>10063000</td>\n",
       "      <td>toyota nze bumper</td>\n",
       "    </tr>\n",
       "    <tr>\n",
       "      <th>378</th>\n",
       "      <td>10063000</td>\n",
       "      <td>10063000</td>\n",
       "      <td>stc pakistan long grain milled rice moto brand...</td>\n",
       "    </tr>\n",
       "  </tbody>\n",
       "</table>\n",
       "<p>379 rows × 3 columns</p>\n",
       "</div>"
      ],
      "text/plain": [
       "       HSCODE  prediction                                 PRODUCTDESCRIPTION\n",
       "0    10063000    10063000  stc pakistan long grain parboiled rice grade z...\n",
       "1    10063000    10063000  stc thai white rice percent day day brand grad...\n",
       "2    10063000    10063000               pakistan long grain white rice grade\n",
       "3    10063000    10063000         thailand white rice grade ii rizmati brand\n",
       "4    10063000    10063000      indian long grain white rice grade broken pct\n",
       "..        ...         ...                                                ...\n",
       "374  85071000    10063000                                  piece car battery\n",
       "375  10063000    10063000                                           bag rice\n",
       "376  10063000    10063000  stc pakistani long grain rice grade keb diamon...\n",
       "377  87081000    10063000                                  toyota nze bumper\n",
       "378  10063000    10063000  stc pakistan long grain milled rice moto brand...\n",
       "\n",
       "[379 rows x 3 columns]"
      ]
     },
     "execution_count": 25,
     "metadata": {},
     "output_type": "execute_result"
    }
   ],
   "source": [
    "check_df\n"
   ]
  },
  {
   "cell_type": "code",
   "execution_count": null,
   "id": "heavy-rebecca",
   "metadata": {},
   "outputs": [],
   "source": []
  }
 ],
 "metadata": {
  "kernelspec": {
   "display_name": "Python 3",
   "language": "python",
   "name": "python3"
  },
  "language_info": {
   "codemirror_mode": {
    "name": "ipython",
    "version": 3
   },
   "file_extension": ".py",
   "mimetype": "text/x-python",
   "name": "python",
   "nbconvert_exporter": "python",
   "pygments_lexer": "ipython3",
   "version": "3.8.5"
  }
 },
 "nbformat": 4,
 "nbformat_minor": 5
}
